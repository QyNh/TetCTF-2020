{
 "cells": [
  {
   "cell_type": "markdown",
   "metadata": {},
   "source": [
    "# TetCTF 2020 - (Crypto) 2019rearrange\n",
    "\n",
    "Challenge's code:\n",
    "\n",
    "```python\n",
    "import random\n",
    "from Crypto.Util.number import getPrime\n",
    "\n",
    "\n",
    "def encrypt(m, n):\n",
    "    digits = [2, 0, 1, 9]\n",
    "    random.shuffle(digits)\n",
    "    e = sum([d * 10 ** (3 - i) for i, d in enumerate(digits)])\n",
    "    noise = random.randint(0, n - 1)\n",
    "    return e, noise, pow(m + noise, e, n)\n",
    "\n",
    "\n",
    "if __name__ == '__main__':\n",
    "    p = getPrime(512)\n",
    "    q = getPrime(512)\n",
    "    n = p * q\n",
    "    print(\"n =\", n)\n",
    "\n",
    "    m = int.from_bytes(open('flag.txt', 'rb').read(), 'big')\n",
    "\n",
    "    # can you recover m from 2 ciphertexts?\n",
    "    print('e1, noise1, c1 =', encrypt(m, n))\n",
    "    print('e2, noise2, c2 =', encrypt(m, n))\n",
    "```\n",
    "\n",
    "We are given a RSA moduli $n$ and encryption of flag $m$ under 2 different public exponent. Consider in Polynomial Ring Mod $n$, 2 polys:\n",
    "$$f_{1}(m) = (m+noise_{1})^{e_{1}} - c_{1}$$\n",
    "$$f_{2}(m) = (m+noise_{2})^{e_{2}} - c_{2}$$\n",
    "Then $m$ is the common root of $f_{1}(m)$ and $f_{2}(m)$, which is also root of $g(m) = gcd(f_{1}(m), f_{2}(m))$. And because degree of $g(m)$ is small, we can easily calculate $m$."
   ]
  },
  {
   "cell_type": "code",
   "execution_count": 1,
   "metadata": {},
   "outputs": [],
   "source": [
    "from sage.all import *\n",
    "from Crypto.Util.number import long_to_bytes"
   ]
  },
  {
   "cell_type": "code",
   "execution_count": 2,
   "metadata": {},
   "outputs": [],
   "source": [
    "n = 99432613480939068351562426450736079548256649399824074125897023718511347184177748762719404609118999419018534660223144728190056735099787907299980625300234355248546050583144387977927309463501291854876892509630938617460690481497010165530214494306444999151252999850250583288798888278770654238342967653191171473013\n",
    "e1, noise1, c1 = (9102, 42926763857648808452080305910241720054908809667539630194138718908195450776152522239791644645043372458139920503040529361726409749150633609223017012694569617522037971161448894459262110250322393703607247036022683527543284339763718964451482238661494995313111724858075982045508601405376724544741352142401794693054, 48276023282567629527195243870327301962656940680898728928903255577939008086657887592958073923577657060463242759606506812938152312008130198252498457257386413883443843887507528097024367788094619479032221547513746486475136282357337951126122694205225292004957793882304453164618423156810792171305978347365910972343)\n",
    "e2, noise2, c2 = (2109, 51208643076502294588477225830948052764402322839126847164816681682357946991156728371602766970288519802146987999203830056494899211501025949997165558057140744445002699137286162872658309250096136525032077525028373299701055357023079519776378532002052890676446838318133048612893135724217301724754396467377231356425, 30644829500627448217295366947497931474953886995151259599263428251525601964766004111974074015504963773615137800165460045351514062357500899618814273135292073698096477339942069685331462828432407501524816375109607227118357281435280158409804228556720158131377342049528810546024786899763038442784789928604641662412)\n"
   ]
  },
  {
   "cell_type": "code",
   "execution_count": 3,
   "metadata": {},
   "outputs": [],
   "source": [
    "def _gcd(a, b):\n",
    "    while b != 0:\n",
    "        a, b = b, a%b\n",
    "    return a"
   ]
  },
  {
   "cell_type": "code",
   "execution_count": 4,
   "metadata": {},
   "outputs": [
    {
     "name": "stdout",
     "output_type": "stream",
     "text": [
      "TetCTF{1t_1s_4ll_4b0ut_GCD_0v3r_p0lyn0m14ls}\n"
     ]
    }
   ],
   "source": [
    "R.<m> = PolynomialRing(Zmod(n))\n",
    "f1 = (m + noise1)^e1 - c1\n",
    "f2 = (m + noise2)^e2 - c2\n",
    "\n",
    "g = _gcd(f1, f2)\n",
    "\n",
    "a, b = g.coefficients()\n",
    "x = -inverse_mod(ZZ(b), n) * a % n\n",
    "print long_to_bytes(x)"
   ]
  },
  {
   "cell_type": "code",
   "execution_count": null,
   "metadata": {},
   "outputs": [],
   "source": []
  }
 ],
 "metadata": {
  "kernelspec": {
   "display_name": "SageMath 8.1",
   "language": "",
   "name": "sagemath"
  },
  "language_info": {
   "codemirror_mode": {
    "name": "ipython",
    "version": 2
   },
   "file_extension": ".py",
   "mimetype": "text/x-python",
   "name": "python",
   "nbconvert_exporter": "python",
   "pygments_lexer": "ipython2",
   "version": "2.7.17"
  }
 },
 "nbformat": 4,
 "nbformat_minor": 2
}
