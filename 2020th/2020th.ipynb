{
 "cells": [
  {
   "cell_type": "markdown",
   "metadata": {},
   "source": [
    "# TetCTF 2020 - (Crypto) 2020th\n",
    "\n",
    "Challenge's code:\n",
    "\n",
    "```python\n",
    "import random\n",
    "\n",
    "if __name__ == '__main__':\n",
    "    nIndices = 2\n",
    "    indices = [int(input()) for _ in range(nIndices)]\n",
    "\n",
    "    for i in range(2019):\n",
    "        r = random.getrandbits(32)\n",
    "        print(r if i in indices else 'Nope!')\n",
    "\n",
    "    # please guess the 2020th number!\n",
    "    if int(input()) == random.getrandbits(32):\n",
    "        print(open('flag.txt').read())\n",
    "```\n",
    "\n",
    "There's a list of 2019 32-bit numbers but we only know 2 of them and must guess the $2020^{th}$ number for the flag. Known that python's $random$ module use $Mersenne Twister$ for generating random numbers, we just take a look at some implementation of $Mersenne Twister$ (like [this](https://github.com/tungpun/tp-cryptopals-solutions/blob/master/set%203/Challenge%2021%20-%20Implement%20the%20MT19937%20Mersenne%20Twister%20RNG/src.py)) and there are something interesting:\n",
    "\n",
    "```python\n",
    "def extract_number(self):\n",
    "    if self.index == 0:\n",
    "        self.generate_numbers()\n",
    "\n",
    "    y = self.MT[self.index]\n",
    "    y = y ^ (y >> 11)\n",
    "    y = y ^ ((y << 7) & (0x9d2c5680))\n",
    "    y = y ^ ((y << 15) & (0xefc60000))\n",
    "    y = y ^ (y >> 18)\n",
    "\n",
    "    self.index = (self.index + 1) % 624\n",
    "    return y\n",
    "\n",
    "def generate_numbers(self):\n",
    "    for i in range(0, 623+1):\n",
    "        y = (self.MT[i] & 0x80000000) + (self.MT[(i+1) % 624] & 0x7fffffff)  \n",
    "        self.MT[i] = self.MT[(i + 397) % 624] ^ (y >> 1)\n",
    "        if (y % 2) != 0: # y is odd\n",
    "            self.MT[i] = self.MT[i] ^ (2567483615) # 0x9908b0df\n",
    "```\n",
    "\n",
    "The $Mersenne Twister RNG$ use a list of 624 elements $(MT)$ and each element map to an output after some bit operations, after iterated all of 624 numbers, $MT$ is renewed by $generate\\_numbers$ function. The $generate_numbers$ function calculate new $MT[i]$ by old $MT[(i+1) \\% 624]$ and $MT[(i + 397) \\% 624]$, if we know these 2 values, we can calculate $MT[i]$."
   ]
  },
  {
   "cell_type": "code",
   "execution_count": 1,
   "metadata": {},
   "outputs": [],
   "source": [
    "import random\n",
    "from sock import Sock"
   ]
  },
  {
   "cell_type": "code",
   "execution_count": 2,
   "metadata": {},
   "outputs": [],
   "source": [
    "def unshiftRight(x, shift):\n",
    "    res = x\n",
    "    for i in range(32):\n",
    "        res = x ^ res >> shift\n",
    "    return res\n",
    "\n",
    "def unshiftLeft(x, shift, mask):\n",
    "    res = x\n",
    "    for i in range(32):\n",
    "        res = x ^ (res << shift & mask)\n",
    "    return res\n",
    "\n",
    "def untemper(v):\n",
    "    \"\"\" Convert output to MT[i] \"\"\"\n",
    "    v = unshiftRight(v, 18)\n",
    "    v = unshiftLeft(v, 15, 0xefc60000)\n",
    "    v = unshiftLeft(v, 7, 0x9d2c5680)\n",
    "    v = unshiftRight(v, 11)\n",
    "    return v\n",
    "\n",
    "def temper(y):\n",
    "    \"\"\" Convert MT[i] to output \"\"\"\n",
    "    y = y ^ (y >> 11)\n",
    "    y = y ^ ((y << 7) & (0x9d2c5680))\n",
    "    y = y ^ ((y << 15) & (0xefc60000))\n",
    "    y = y ^ (y >> 18)\n",
    "    return y\n",
    "\n",
    "def solve(a, b):\n",
    "    res = []\n",
    "    mt_i1, mt_i397 = untemper(a), untemper(b) # MT[i], MT[i+397]\n",
    "    for msb in range(2):\n",
    "        y = (msb * 0x80000000) + (mt_i1 & 0x7fffffff)\n",
    "        mt_i = mt_i397 ^ (y >> 1)\n",
    "        if (y % 2) != 0:\n",
    "            mt_i = mt_i ^ 0x9908b0df\n",
    "        res.append(temper(mt_i))\n",
    "    return res"
   ]
  },
  {
   "cell_type": "code",
   "execution_count": 3,
   "metadata": {},
   "outputs": [
    {
     "name": "stdout",
     "output_type": "stream",
     "text": [
      "[3907985974L, 2900833076L]\n",
      "3907985974\n"
     ]
    }
   ],
   "source": [
    "# test\n",
    "test = []\n",
    "for i in range(2020):\n",
    "    r = random.getrandbits(32)\n",
    "    test.append(r)\n",
    "\n",
    "print solve(test[1396], test[1792])\n",
    "print test[2019]"
   ]
  },
  {
   "cell_type": "code",
   "execution_count": 4,
   "metadata": {},
   "outputs": [
    {
     "name": "stdout",
     "output_type": "stream",
     "text": [
      "TetCTF{y0u_4r3_1nd33d_4_pr0ph3t}\n"
     ]
    }
   ],
   "source": [
    "while True:\n",
    "    s = Sock(\"207.148.119.58 6666\")\n",
    "    s.send_line(\"1396\")\n",
    "    s.send_line(\"1792\")\n",
    "    guess = []\n",
    "    for _ in range(2019):\n",
    "        a = s.read_line().strip()\n",
    "        if \"Nope\" not in a:\n",
    "            guess.append(int(a))\n",
    "    res = solve(*guess)\n",
    "    s.send_line(str(res[0])) # 50-50 :)\n",
    "    resp = s.read_line().strip()\n",
    "    if \"TetCTF\" in resp:\n",
    "        print resp\n",
    "        break\n",
    "    s.close()\n",
    "    sleep(1)"
   ]
  },
  {
   "cell_type": "code",
   "execution_count": null,
   "metadata": {},
   "outputs": [],
   "source": []
  }
 ],
 "metadata": {
  "kernelspec": {
   "display_name": "Python 2",
   "language": "python",
   "name": "python2"
  },
  "language_info": {
   "codemirror_mode": {
    "name": "ipython",
    "version": 2
   },
   "file_extension": ".py",
   "mimetype": "text/x-python",
   "name": "python",
   "nbconvert_exporter": "python",
   "pygments_lexer": "ipython2",
   "version": "2.7.17"
  }
 },
 "nbformat": 4,
 "nbformat_minor": 2
}
