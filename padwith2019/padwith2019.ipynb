{
 "cells": [
  {
   "cell_type": "markdown",
   "metadata": {},
   "source": [
    "# TetCTF 2020 - (Crypto) padwith2019\n",
    "\n",
    "Challenge's code:\n",
    "\n",
    "```python\n",
    "from Crypto.Cipher import AES\n",
    "import os, json\n",
    "\n",
    "PAD = bytes.fromhex(\"2019\") * 8\n",
    "\n",
    "\n",
    "def pad(s):\n",
    "    pad_length = 16 - len(s) % 16\n",
    "    return bytes([pad_length]) + PAD[:pad_length - 1] + s\n",
    "\n",
    "\n",
    "def unpad(s):\n",
    "    pad_length = s[0]\n",
    "    if (\n",
    "            len(s) % 16 != 0 or\n",
    "            not 1 <= pad_length <= 16 or\n",
    "            s[1:pad_length] != PAD[:pad_length - 1]\n",
    "    ):\n",
    "        raise Exception(\"incorrect padding\")\n",
    "\n",
    "    return s[pad_length:]\n",
    "\n",
    "\n",
    "def encrypt(key, plaintext):\n",
    "    aes = AES.new(key, AES.MODE_CBC, os.urandom(16))\n",
    "    return aes.IV + aes.encrypt(pad(plaintext))\n",
    "\n",
    "\n",
    "def decrypt(key, ciphertext):\n",
    "    aes = AES.new(key, AES.MODE_CBC, ciphertext[:16])\n",
    "    return unpad(aes.decrypt(ciphertext[16:]))\n",
    "\n",
    "\n",
    "if __name__ == '__main__':\n",
    "    key = os.urandom(16)\n",
    "    obj = {'admin': False, 'flag': open(\"flag1.txt\").read()}\n",
    "    token = encrypt(key, json.dumps(obj).encode())\n",
    "\n",
    "    # please decrypt the token!\n",
    "    print(token.hex())\n",
    "\n",
    "    for _ in range(65536):\n",
    "        try:\n",
    "            token = bytes.fromhex(input())\n",
    "            obj = json.loads(decrypt(key, token))\n",
    "\n",
    "            # can you also forge arbitrary tokens?\n",
    "            if obj['admin']:\n",
    "                print(open(\"flag2.txt\").read())\n",
    "\n",
    "        except Exception as e:\n",
    "            print(e)\n",
    "```\n",
    "\n",
    "It's basically a CBC Bit-Flipping Attack challenge (learn more [here](https://masterpessimistaa.wordpress.com/2017/05/03/cbc-bit-flipping-attack/))"
   ]
  },
  {
   "cell_type": "code",
   "execution_count": 1,
   "metadata": {},
   "outputs": [],
   "source": [
    "from sock import Sock"
   ]
  },
  {
   "cell_type": "markdown",
   "metadata": {},
   "source": [
    "Firstly, we find padding length by taking advantage of Exception."
   ]
  },
  {
   "cell_type": "code",
   "execution_count": 2,
   "metadata": {},
   "outputs": [
    {
     "name": "stdout",
     "output_type": "stream",
     "text": [
      "incorrect padding\n",
      "\n",
      "incorrect padding\n",
      "\n",
      "Expecting value: line 1 column 1 (char 0)\n",
      "\n",
      "Expecting property name enclosed in double quotes: line 1 column 2 (char 1)\n",
      "\n",
      "'admin'\n",
      "\n",
      "'admin'\n",
      "\n",
      "'admin'\n",
      "\n",
      "'admin'\n",
      "\n",
      "'admin'\n",
      "\n",
      "Expecting ':' delimiter: line 1 column 19 (char 18)\n",
      "\n",
      "Expecting ':' delimiter: line 1 column 9 (char 8)\n",
      "\n",
      "Expecting value: line 1 column 10 (char 9)\n",
      "\n",
      "Expecting value: line 1 column 11 (char 10)\n",
      "\n",
      "Expecting value: line 1 column 11 (char 10)\n",
      "\n",
      "Expecting value: line 1 column 11 (char 10)\n",
      "\n",
      "Expecting value: line 1 column 11 (char 10)\n",
      "\n"
     ]
    }
   ],
   "source": [
    "s = Sock(\"207.148.119.58 5555\")\n",
    "token = s.read_line().strip().decode(\"hex\")\n",
    "iv, ct = token[:16], token[16:]\n",
    "for i in range(0, 16):\n",
    "    tmp = list(iv)\n",
    "    tmp[i] = chr(ord(tmp[i])^1)\n",
    "    tmp = \"\".join(tmp)\n",
    "    aa = tmp + ct\n",
    "    s.send_line(aa.encode(\"hex\"))\n",
    "    print s.read_line()\n",
    "s.close()"
   ]
  },
  {
   "cell_type": "markdown",
   "metadata": {},
   "source": [
    "So length of padding is 2, and plaintext has form `xx{\"admin\": fals|e, \"flag\": \"TetC|TF{aaaaaaaaaaa\"}`.\n",
    "Now we will flip `fals` to ` true`"
   ]
  },
  {
   "cell_type": "code",
   "execution_count": 3,
   "metadata": {},
   "outputs": [
    {
     "name": "stdout",
     "output_type": "stream",
     "text": [
      "th3_b3g1nn1ng_d03s_n0t_h3lp}\n",
      "\n"
     ]
    }
   ],
   "source": [
    "s = Sock(\"207.148.119.58 5555\")\n",
    "token = s.read_line().strip().decode(\"hex\")\n",
    "iv, ct = token[:16], token[16:]\n",
    "aaa = list(iv)\n",
    "old = \"fals\"\n",
    "new = \" tru\"\n",
    "for i in range(4):\n",
    "    aaa[12+i] = chr(ord(aaa[12+i]) ^ ord(old[i]) ^ ord(new[i]))\n",
    "    bbb = \"\".join(aaa) + ct\n",
    "s.send_line(bbb.encode(\"hex\"))\n",
    "part2 = s.read_line()\n",
    "s.close()\n",
    "print part2"
   ]
  },
  {
   "cell_type": "markdown",
   "metadata": {},
   "source": [
    "We got the second part of the flag, now we'll use the Exception again to recover the first part."
   ]
  },
  {
   "cell_type": "code",
   "execution_count": 4,
   "metadata": {},
   "outputs": [
    {
     "name": "stdout",
     "output_type": "stream",
     "text": [
      "TF{p\n",
      "TF{p4\n",
      "TF{p4d\n",
      "TF{p4dd\n",
      "TF{p4dd1\n",
      "TF{p4dd1n\n",
      "TF{p4dd1ng\n",
      "TF{p4dd1ng_\n",
      "TF{p4dd1ng_4\n",
      "TF{p4dd1ng_4t\n",
      "TF{p4dd1ng_4t_\n"
     ]
    },
    {
     "ename": "IndexError",
     "evalue": "string index out of range",
     "output_type": "error",
     "traceback": [
      "\u001b[0;31m---------------------------------------------------------------------------\u001b[0m",
      "\u001b[0;31mIndexError\u001b[0m                                Traceback (most recent call last)",
      "\u001b[0;32m<ipython-input-4-6625a60aebd3>\u001b[0m in \u001b[0;36m<module>\u001b[0;34m()\u001b[0m\n\u001b[1;32m     11\u001b[0m     \u001b[0maaa\u001b[0m\u001b[0;34m[\u001b[0m\u001b[0;36m0\u001b[0m\u001b[0;34m]\u001b[0m \u001b[0;34m=\u001b[0m \u001b[0mchr\u001b[0m\u001b[0;34m(\u001b[0m\u001b[0mord\u001b[0m\u001b[0;34m(\u001b[0m\u001b[0maaa\u001b[0m\u001b[0;34m[\u001b[0m\u001b[0;36m0\u001b[0m\u001b[0;34m]\u001b[0m\u001b[0;34m)\u001b[0m \u001b[0;34m^\u001b[0m \u001b[0;34m(\u001b[0m\u001b[0mi\u001b[0m\u001b[0;34m+\u001b[0m\u001b[0;36m1\u001b[0m\u001b[0;34m)\u001b[0m \u001b[0;34m^\u001b[0m \u001b[0mord\u001b[0m\u001b[0;34m(\u001b[0m\u001b[0;34m\"T\"\u001b[0m\u001b[0;34m)\u001b[0m\u001b[0;34m)\u001b[0m\u001b[0;34m\u001b[0m\u001b[0m\n\u001b[1;32m     12\u001b[0m     \u001b[0;32mfor\u001b[0m \u001b[0mj\u001b[0m \u001b[0;32min\u001b[0m \u001b[0mrange\u001b[0m\u001b[0;34m(\u001b[0m\u001b[0;36m1\u001b[0m\u001b[0;34m,\u001b[0m \u001b[0mi\u001b[0m\u001b[0;34m,\u001b[0m \u001b[0;36m1\u001b[0m\u001b[0;34m)\u001b[0m\u001b[0;34m:\u001b[0m\u001b[0;34m\u001b[0m\u001b[0m\n\u001b[0;32m---> 13\u001b[0;31m         \u001b[0maaa\u001b[0m\u001b[0;34m[\u001b[0m\u001b[0mj\u001b[0m\u001b[0;34m]\u001b[0m \u001b[0;34m=\u001b[0m \u001b[0mchr\u001b[0m\u001b[0;34m(\u001b[0m\u001b[0mord\u001b[0m\u001b[0;34m(\u001b[0m\u001b[0maaa\u001b[0m\u001b[0;34m[\u001b[0m\u001b[0mj\u001b[0m\u001b[0;34m]\u001b[0m\u001b[0;34m)\u001b[0m \u001b[0;34m^\u001b[0m \u001b[0mord\u001b[0m\u001b[0;34m(\u001b[0m\u001b[0mpart1\u001b[0m\u001b[0;34m[\u001b[0m\u001b[0mj\u001b[0m\u001b[0;34m]\u001b[0m\u001b[0;34m)\u001b[0m \u001b[0;34m^\u001b[0m \u001b[0mord\u001b[0m\u001b[0;34m(\u001b[0m\u001b[0mPAD\u001b[0m\u001b[0;34m[\u001b[0m\u001b[0mj\u001b[0m\u001b[0;34m-\u001b[0m\u001b[0;36m1\u001b[0m\u001b[0;34m]\u001b[0m\u001b[0;34m)\u001b[0m\u001b[0;34m)\u001b[0m\u001b[0;34m\u001b[0m\u001b[0m\n\u001b[0m\u001b[1;32m     14\u001b[0m     \u001b[0mtmp\u001b[0m \u001b[0;34m=\u001b[0m \u001b[0maaa\u001b[0m\u001b[0;34m[\u001b[0m\u001b[0mi\u001b[0m\u001b[0;34m]\u001b[0m\u001b[0;34m\u001b[0m\u001b[0m\n\u001b[1;32m     15\u001b[0m     \u001b[0;32mfor\u001b[0m \u001b[0mj\u001b[0m \u001b[0;32min\u001b[0m \u001b[0msig\u001b[0m\u001b[0;34m:\u001b[0m\u001b[0;34m\u001b[0m\u001b[0m\n",
      "\u001b[0;31mIndexError\u001b[0m: string index out of range"
     ]
    }
   ],
   "source": [
    "s = Sock(\"207.148.119.58 5555\")\n",
    "token = s.read_line().strip().decode(\"hex\")\n",
    "iv, ct = token[:16], token[16:]\n",
    "import string\n",
    "PAD = \"\\x20\\x19\" * 8\n",
    "iv, ct = ct[16:32], ct[32:]\n",
    "part1 = \"TF{\"\n",
    "sig = string.ascii_letters + string.digits + \"}{_\"\n",
    "for i in range(3, 16, 1):\n",
    "    aaa = list(iv)\n",
    "    aaa[0] = chr(ord(aaa[0]) ^ (i+1) ^ ord(\"T\"))\n",
    "    for j in range(1, i, 1):\n",
    "        aaa[j] = chr(ord(aaa[j]) ^ ord(part1[j]) ^ ord(PAD[j-1]))\n",
    "    tmp = aaa[i]\n",
    "    for j in sig:\n",
    "        aaa[i] = chr(ord(tmp) ^ ord(j) ^ (ord(PAD[i-1])))\n",
    "        bbb = \"\".join(aaa) + ct\n",
    "        s.send_line(bbb.encode(\"hex\"))\n",
    "        if \"padding\" not in s.read_line():\n",
    "            part1 += j\n",
    "            print part1\n",
    "            break\n",
    "s.close()"
   ]
  },
  {
   "cell_type": "markdown",
   "metadata": {},
   "source": [
    "Done! The flag is `TetCTF{p4dd1ng_4t_th3_b3g1nn1ng_d03s_n0t_h3lp}`"
   ]
  },
  {
   "cell_type": "code",
   "execution_count": null,
   "metadata": {},
   "outputs": [],
   "source": []
  }
 ],
 "metadata": {
  "kernelspec": {
   "display_name": "Python 2",
   "language": "python",
   "name": "python2"
  },
  "language_info": {
   "codemirror_mode": {
    "name": "ipython",
    "version": 2
   },
   "file_extension": ".py",
   "mimetype": "text/x-python",
   "name": "python",
   "nbconvert_exporter": "python",
   "pygments_lexer": "ipython2",
   "version": "2.7.17"
  }
 },
 "nbformat": 4,
 "nbformat_minor": 2
}
